{
 "cells": [
  {
   "cell_type": "code",
   "execution_count": 113,
   "id": "32d3c025-e71a-4dca-8be7-f654b49adea7",
   "metadata": {},
   "outputs": [],
   "source": [
    "l= [1,2,3,\"cat\",\"x\",6,[2,5],[\"fish\",3,\"5\"]]"
   ]
  },
  {
   "cell_type": "code",
   "execution_count": 145,
   "id": "19ae5002-8ed6-4f02-85bd-15afb4e099a8",
   "metadata": {},
   "outputs": [
    {
     "data": {
      "text/plain": [
       "[1, 2, 3, 'cat', 'x', 6, 2, 5, 'fish', 3, '5']"
      ]
     },
     "execution_count": 145,
     "metadata": {},
     "output_type": "execute_result"
    }
   ],
   "source": [
    "def flatten_list(l):\n",
    "    for item in l:\n",
    "        if type(item) in [list]:\n",
    "            for num in flatten_list(item):\n",
    "                yield(num)\n",
    "        else:\n",
    "            yield(item)\n",
    "\n",
    "list(flatten_list(l))"
   ]
  },
  {
   "cell_type": "code",
   "execution_count": null,
   "id": "3df4fe81-e250-48bc-b035-e0a19a46e4fa",
   "metadata": {},
   "outputs": [],
   "source": [
    "#2. kısım "
   ]
  },
  {
   "cell_type": "code",
   "execution_count": 88,
   "id": "d3c8f9f2-e8b2-4ec1-a5d4-9d4a0dcb3130",
   "metadata": {},
   "outputs": [],
   "source": [
    "l= [1,2,3,\"cat\",\"x\",6,[2,5],[\"fish\",3,\"5\"]]"
   ]
  },
  {
   "cell_type": "code",
   "execution_count": 110,
   "id": "5f50663f-13eb-4b43-8486-edd030e46720",
   "metadata": {},
   "outputs": [],
   "source": [
    "#list içerisindeki elemanlara kadar ters \n",
    "def mirrored(l):\n",
    "    return [(mirrored(x) if isinstance(x, list) else x) for x in reversed(l)]\n"
   ]
  },
  {
   "cell_type": "code",
   "execution_count": 109,
   "id": "ecc31ba9-9717-4f82-87ed-baa41532a6f1",
   "metadata": {},
   "outputs": [
    {
     "data": {
      "text/plain": [
       "[['5', 3, 'fish'], [5, 2], 6, 'x', 'cat', 3, 2, 1]"
      ]
     },
     "execution_count": 109,
     "metadata": {},
     "output_type": "execute_result"
    }
   ],
   "source": [
    "l= [1,2,3,\"cat\",\"x\",6,[2,5],[\"fish\",3,\"5\"]]\n",
    "mirrored(l)"
   ]
  },
  {
   "cell_type": "code",
   "execution_count": 112,
   "id": "aa168000-e77e-46a4-b0cb-63f4cc3b553a",
   "metadata": {},
   "outputs": [
    {
     "name": "stdout",
     "output_type": "stream",
     "text": [
      "[[['fish', 3, '5'], [2, 5], 6, 'x', 'cat', 3, 2, 1]]\n"
     ]
    }
   ],
   "source": [
    "#sadece elemanlar ters döner\n",
    "def Reverse(l):\n",
    "    new_l = [l[::-1]]\n",
    "    return new_l\n",
    "print(Reverse(l))\n",
    "    "
   ]
  },
  {
   "cell_type": "code",
   "execution_count": 64,
   "id": "780cb77a-3d75-4870-b676-f444a2f0a713",
   "metadata": {},
   "outputs": [
    {
     "name": "stdout",
     "output_type": "stream",
     "text": [
      "['fish', 3, '5']\n",
      "[2, 5]\n",
      "6\n",
      "x\n",
      "cat\n",
      "3\n",
      "2\n",
      "1\n"
     ]
    }
   ],
   "source": [
    "for i in reversed(l):\n",
    "    print(i)"
   ]
  }
 ],
 "metadata": {
  "kernelspec": {
   "display_name": "Python 3 (ipykernel)",
   "language": "python",
   "name": "python3"
  },
  "language_info": {
   "codemirror_mode": {
    "name": "ipython",
    "version": 3
   },
   "file_extension": ".py",
   "mimetype": "text/x-python",
   "name": "python",
   "nbconvert_exporter": "python",
   "pygments_lexer": "ipython3",
   "version": "3.9.7"
  }
 },
 "nbformat": 4,
 "nbformat_minor": 5
}
